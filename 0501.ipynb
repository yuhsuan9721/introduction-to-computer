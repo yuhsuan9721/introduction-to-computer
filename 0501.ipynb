{
  "nbformat": 4,
  "nbformat_minor": 0,
  "metadata": {
    "colab": {
      "provenance": [],
      "authorship_tag": "ABX9TyNrOTWCkygx4GaCmwMmJIot",
      "include_colab_link": true
    },
    "kernelspec": {
      "name": "python3",
      "display_name": "Python 3"
    },
    "language_info": {
      "name": "python"
    }
  },
  "cells": [
    {
      "cell_type": "markdown",
      "metadata": {
        "id": "view-in-github",
        "colab_type": "text"
      },
      "source": [
        "<a href=\"https://colab.research.google.com/github/yuhsuan9721/introduction-to-computer/blob/main/0501.ipynb\" target=\"_parent\"><img src=\"https://colab.research.google.com/assets/colab-badge.svg\" alt=\"Open In Colab\"/></a>"
      ]
    },
    {
      "cell_type": "code",
      "execution_count": null,
      "metadata": {
        "colab": {
          "base_uri": "https://localhost:8080/"
        },
        "id": "ca6vZ8UDokoq",
        "outputId": "0db4a6c6-1379-4411-f917-bfc0ee714947"
      },
      "outputs": [
        {
          "output_type": "stream",
          "name": "stdout",
          "text": [
            "0501\n"
          ]
        }
      ],
      "source": [
        "print('0501')\n"
      ]
    },
    {
      "cell_type": "code",
      "source": [
        "1 1"
      ],
      "metadata": {
        "colab": {
          "base_uri": "https://localhost:8080/",
          "height": 108
        },
        "id": "zeimjpnPoxTZ",
        "outputId": "01e6be29-3d09-4b62-e220-958d3ca0e31c"
      },
      "execution_count": null,
      "outputs": [
        {
          "output_type": "error",
          "ename": "SyntaxError",
          "evalue": "invalid syntax (<ipython-input-2-d998709663ea>, line 1)",
          "traceback": [
            "\u001b[0;36m  File \u001b[0;32m\"<ipython-input-2-d998709663ea>\"\u001b[0;36m, line \u001b[0;32m1\u001b[0m\n\u001b[0;31m    1 1\u001b[0m\n\u001b[0m      ^\u001b[0m\n\u001b[0;31mSyntaxError\u001b[0m\u001b[0;31m:\u001b[0m invalid syntax\n"
          ]
        }
      ]
    },
    {
      "cell_type": "code",
      "source": [
        "1    1"
      ],
      "metadata": {
        "id": "X1NtHBObpRr9"
      },
      "execution_count": null,
      "outputs": []
    },
    {
      "cell_type": "code",
      "source": [
        "score=int(input('輸入分數'))\n",
        "if (score>=60):\n",
        "  print('及格')"
      ],
      "metadata": {
        "colab": {
          "base_uri": "https://localhost:8080/"
        },
        "id": "iNf1dy6BpTEB",
        "outputId": "efa9eaff-1a58-46aa-ec73-1e5e66704046"
      },
      "execution_count": null,
      "outputs": [
        {
          "output_type": "stream",
          "name": "stdout",
          "text": [
            "輸入分數70\n",
            "及格\n"
          ]
        }
      ]
    },
    {
      "cell_type": "code",
      "source": [
        "數學=60\n",
        "英文=50\n",
        "if 數學>英文:\n",
        "  print('數學比較高')\n"
      ],
      "metadata": {
        "colab": {
          "base_uri": "https://localhost:8080/"
        },
        "id": "Cs10RtCGs9yW",
        "outputId": "9b6727f5-f61c-4d3d-948d-b11db1caeaaf"
      },
      "execution_count": null,
      "outputs": [
        {
          "output_type": "stream",
          "name": "stdout",
          "text": [
            "數學比較高\n"
          ]
        }
      ]
    },
    {
      "cell_type": "code",
      "source": [
        "數學=60\n",
        "英文=70\n",
        "if 數學>英文:\n",
        "  print('數學比較高')\n",
        "else:\n",
        "  print('英文比較高')"
      ],
      "metadata": {
        "colab": {
          "base_uri": "https://localhost:8080/"
        },
        "id": "t-VyGAhxtdzi",
        "outputId": "02dc709b-40f4-4e21-c199-f16ae98bccd7"
      },
      "execution_count": null,
      "outputs": [
        {
          "output_type": "stream",
          "name": "stdout",
          "text": [
            "英文比較高\n"
          ]
        }
      ]
    },
    {
      "cell_type": "code",
      "source": [
        "password = input(\"請輸入密碼：\")\n",
        "if password == \"1234\":\n",
        "        print(\"歡迎光臨！\")\n"
      ],
      "metadata": {
        "colab": {
          "base_uri": "https://localhost:8080/"
        },
        "id": "cGnUJOXFwEfA",
        "outputId": "e81deee7-3118-426d-fd5d-7fcb03051870"
      },
      "execution_count": null,
      "outputs": [
        {
          "name": "stdout",
          "output_type": "stream",
          "text": [
            "請輸入密碼：1111\n"
          ]
        }
      ]
    },
    {
      "cell_type": "code",
      "source": [
        "weather_code = input(\"請輸入天氣代碼：\")\n",
        "if (weather_code==\"Y\" or weather_code==\"y\"):\n",
        "        print(\"出門記得帶傘\")"
      ],
      "metadata": {
        "colab": {
          "base_uri": "https://localhost:8080/"
        },
        "id": "3HQUsPj_wNXw",
        "outputId": "d3b3bb3b-41f6-42bc-ed24-7a51f84c117f"
      },
      "execution_count": null,
      "outputs": [
        {
          "output_type": "stream",
          "name": "stdout",
          "text": [
            "請輸入天氣代碼：Y\n",
            "出門記得帶傘\n"
          ]
        }
      ]
    },
    {
      "cell_type": "code",
      "source": [
        "score=int(input('輸入分數'))\n",
        "if (score%2==0):\n",
        "  print('偶數')\n",
        "else:\n",
        "  print('奇數')"
      ],
      "metadata": {
        "colab": {
          "base_uri": "https://localhost:8080/"
        },
        "id": "3JjIYWpZl8q6",
        "outputId": "1fd835d2-0ba7-4855-c16f-11f830157846"
      },
      "execution_count": 1,
      "outputs": [
        {
          "output_type": "stream",
          "name": "stdout",
          "text": [
            "輸入分數50\n",
            "偶數\n"
          ]
        }
      ]
    }
  ]
}