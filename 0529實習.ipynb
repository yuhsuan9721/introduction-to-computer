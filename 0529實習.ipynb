{
  "nbformat": 4,
  "nbformat_minor": 0,
  "metadata": {
    "colab": {
      "provenance": [],
      "authorship_tag": "ABX9TyN0Bm2pLXmn6pjE7DMQMpY5",
      "include_colab_link": true
    },
    "kernelspec": {
      "name": "python3",
      "display_name": "Python 3"
    },
    "language_info": {
      "name": "python"
    }
  },
  "cells": [
    {
      "cell_type": "markdown",
      "metadata": {
        "id": "view-in-github",
        "colab_type": "text"
      },
      "source": [
        "<a href=\"https://colab.research.google.com/github/yuhsuan9721/introduction-to-computer/blob/main/0529%E5%AF%A6%E7%BF%92.ipynb\" target=\"_parent\"><img src=\"https://colab.research.google.com/assets/colab-badge.svg\" alt=\"Open In Colab\"/></a>"
      ]
    },
    {
      "cell_type": "markdown",
      "source": [],
      "metadata": {
        "id": "brumkW4SNiYn"
      }
    },
    {
      "cell_type": "code",
      "execution_count": 1,
      "metadata": {
        "colab": {
          "base_uri": "https://localhost:8080/"
        },
        "id": "dgAPXLqzNQ97",
        "outputId": "bd29c02c-4fec-49aa-80d4-d9e1fb03dfcc"
      },
      "outputs": [
        {
          "output_type": "stream",
          "name": "stdout",
          "text": [
            "5\n",
            "*\n",
            "**\n",
            "***\n",
            "****\n",
            "*****\n"
          ]
        }
      ],
      "source": [
        "n=int(input())\n",
        "for i in range (1,n+1):\n",
        "  print(i*'*')"
      ]
    },
    {
      "cell_type": "code",
      "source": [
        "月份 = int(input('輸入月份：'))\n",
        "x = 月份\n",
        "if (3<=x<=5):\n",
        "    print('{} is spring'.format(x))\n",
        "elif (6<=x<=8):\n",
        "    print('{} is summer'.format(x))\n",
        "elif (9<=x<=11):\n",
        "    print('{} is autumn'.format(x))\n",
        "elif (x==1 or x==2 or x==12):\n",
        "    print('{} is winter'.format(x))\n",
        "else:\n",
        "    print('input error')"
      ],
      "metadata": {
        "colab": {
          "base_uri": "https://localhost:8080/"
        },
        "id": "YB8sKqQ-N3JI",
        "outputId": "a3d9a001-a590-4f26-c18a-4af542e54e0f"
      },
      "execution_count": 2,
      "outputs": [
        {
          "output_type": "stream",
          "name": "stdout",
          "text": [
            "輸入月份：5\n",
            "5 is spring\n"
          ]
        }
      ]
    },
    {
      "cell_type": "code",
      "source": [
        "score= int(input('輸入成績：'))\n",
        "y = score\n",
        "if (90<=y<=100):\n",
        "    print('{} is A'.format(x))\n",
        "elif (80<=y<=89):\n",
        "    print('{} is B'.format(x))\n",
        "elif (70<=y<=79):\n",
        "    print('{} is C'.format(x))\n",
        "elif (60<=y<=69):\n",
        "    print('{} is D'.format(x))\n",
        "elif (0<=y<=59):\n",
        "    print('{} is E'.format(x))\n",
        "else:\n",
        "    print('{} is error')"
      ],
      "metadata": {
        "colab": {
          "base_uri": "https://localhost:8080/"
        },
        "id": "ldH_pluYQ8qw",
        "outputId": "6593877d-e8a5-4e59-dae4-7827b8b0927a"
      },
      "execution_count": 7,
      "outputs": [
        {
          "output_type": "stream",
          "name": "stdout",
          "text": [
            "輸入成績：101\n",
            "{} is error\n"
          ]
        }
      ]
    },
    {
      "cell_type": "code",
      "source": [],
      "metadata": {
        "id": "51ZFaoMJS4ff"
      },
      "execution_count": null,
      "outputs": []
    }
  ]
}