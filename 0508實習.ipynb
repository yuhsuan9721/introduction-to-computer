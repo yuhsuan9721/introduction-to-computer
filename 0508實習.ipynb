{
  "nbformat": 4,
  "nbformat_minor": 0,
  "metadata": {
    "colab": {
      "provenance": [],
      "authorship_tag": "ABX9TyOjV+kkWMXOXkq86CHCXaYV",
      "include_colab_link": true
    },
    "kernelspec": {
      "name": "python3",
      "display_name": "Python 3"
    },
    "language_info": {
      "name": "python"
    }
  },
  "cells": [
    {
      "cell_type": "markdown",
      "metadata": {
        "id": "view-in-github",
        "colab_type": "text"
      },
      "source": [
        "<a href=\"https://colab.research.google.com/github/yuhsuan9721/introduction-to-computer/blob/main/0508%E5%AF%A6%E7%BF%92.ipynb\" target=\"_parent\"><img src=\"https://colab.research.google.com/assets/colab-badge.svg\" alt=\"Open In Colab\"/></a>"
      ]
    },
    {
      "cell_type": "code",
      "execution_count": 1,
      "metadata": {
        "colab": {
          "base_uri": "https://localhost:8080/"
        },
        "id": "747sDqdRFAzm",
        "outputId": "10cf26b9-c191-4588-cecd-26887c406775"
      },
      "outputs": [
        {
          "output_type": "stream",
          "name": "stdout",
          "text": [
            "你年齡太小\n",
            "須年滿20歲才可以購買菸酒\n"
          ]
        }
      ],
      "source": [
        "age=18\n",
        "if(age<20):\n",
        "  print('你年齡太小')\n",
        "  print('須年滿20歲才可以購買菸酒')"
      ]
    },
    {
      "cell_type": "code",
      "source": [
        "age=input('請輸入年齡')\n",
        "if(int(age)<20):\n",
        "  print('你年齡太小')\n",
        "  print('須年滿20歲才可以購買菸酒')\n",
        "else:\n",
        "  print('歡迎購買菸酒')"
      ],
      "metadata": {
        "colab": {
          "base_uri": "https://localhost:8080/"
        },
        "id": "yUJQzegEFwpx",
        "outputId": "8f7976a5-d829-42de-c342-a5e1564a5be3"
      },
      "execution_count": 2,
      "outputs": [
        {
          "output_type": "stream",
          "name": "stdout",
          "text": [
            "請輸入年齡18\n",
            "你年齡太小\n",
            "須年滿20歲才可以購買菸酒\n"
          ]
        }
      ]
    },
    {
      "cell_type": "code",
      "source": [
        "age=input('請輸入年齡')\n",
        "if(int(age)<20):\n",
        "  print('你年齡太小')\n",
        "  print('須年滿20歲才可以購買菸酒')\n",
        "else:\n",
        "  print('歡迎購買菸酒')"
      ],
      "metadata": {
        "colab": {
          "base_uri": "https://localhost:8080/"
        },
        "id": "drbRftggGZ1L",
        "outputId": "a5045ab2-8fc8-413c-bf2c-1575b4996f2b"
      },
      "execution_count": 4,
      "outputs": [
        {
          "output_type": "stream",
          "name": "stdout",
          "text": [
            "請輸入年齡21\n",
            "歡迎購買菸酒\n"
          ]
        }
      ]
    },
    {
      "cell_type": "code",
      "source": [
        "print('計算最終成績')\n",
        "score=input('輸入分數')\n",
        "sc=int(score)\n",
        "if (sc>=90):\n",
        "  print('A')\n",
        "elif (sc>=80):\n",
        "  print('B')\n",
        "elif (sc>=70):\n",
        "  print('C')\n",
        "elif (sc>=60):\n",
        "  print('D')\n",
        "else:\n",
        "  print('F')"
      ],
      "metadata": {
        "colab": {
          "base_uri": "https://localhost:8080/"
        },
        "id": "9ikWY8NWGfb7",
        "outputId": "b513bb93-5b24-4094-b19a-745e83467ef9"
      },
      "execution_count": 9,
      "outputs": [
        {
          "output_type": "stream",
          "name": "stdout",
          "text": [
            "計算最終成績\n",
            "輸入分數91\n",
            "A\n"
          ]
        }
      ]
    },
    {
      "cell_type": "code",
      "source": [
        "print('判斷書入年份是否閏年')\n",
        "year=int(input('請輸入年分:'))\n",
        "rem4=year%4\n",
        "rem100=year%100\n",
        "rem400=year%400\n",
        "if rem4==0:\n",
        "  if rem100!=0:\n",
        "    print('是閏年:',year)\n",
        "  else:\n",
        "      print('是平年:',year)\n",
        "else:\n",
        "      print('是平年:',year)\n",
        "\n"
      ],
      "metadata": {
        "colab": {
          "base_uri": "https://localhost:8080/"
        },
        "id": "ydjCwRpfH7kE",
        "outputId": "5f7fd3f3-1f7b-4bac-9e73-3d588e95bcc5"
      },
      "execution_count": 13,
      "outputs": [
        {
          "output_type": "stream",
          "name": "stdout",
          "text": [
            "判斷書入年份是否閏年\n",
            "請輸入年分:2020\n",
            "是閏年: 2020\n"
          ]
        }
      ]
    },
    {
      "cell_type": "code",
      "source": [
        "score=int(input('輸入分數'))\n",
        "if (score>=0):\n",
        "  if (score%2==0):\n",
        "     print(str(score)+'is even')\n",
        "  elif((score+1)%2==0):\n",
        "    print(str(score)+'is odd')\n",
        "else:\n",
        "  print(str(score)+'is Input Error')"
      ],
      "metadata": {
        "colab": {
          "base_uri": "https://localhost:8080/"
        },
        "id": "oz-rIZOYKNwv",
        "outputId": "b30ecca2-69e7-4f4c-d732-413991b0c146"
      },
      "execution_count": 24,
      "outputs": [
        {
          "output_type": "stream",
          "name": "stdout",
          "text": [
            "輸入分數-1\n",
            "-1is Input Error\n"
          ]
        }
      ]
    }
  ]
}