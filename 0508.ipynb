{
  "nbformat": 4,
  "nbformat_minor": 0,
  "metadata": {
    "colab": {
      "provenance": [],
      "authorship_tag": "ABX9TyM/UEZGHJFrqsxvc6LpX4VC",
      "include_colab_link": true
    },
    "kernelspec": {
      "name": "python3",
      "display_name": "Python 3"
    },
    "language_info": {
      "name": "python"
    }
  },
  "cells": [
    {
      "cell_type": "markdown",
      "metadata": {
        "id": "view-in-github",
        "colab_type": "text"
      },
      "source": [
        "<a href=\"https://colab.research.google.com/github/yuhsuan9721/introduction-to-computer/blob/main/0508.ipynb\" target=\"_parent\"><img src=\"https://colab.research.google.com/assets/colab-badge.svg\" alt=\"Open In Colab\"/></a>"
      ]
    },
    {
      "cell_type": "code",
      "execution_count": 12,
      "metadata": {
        "colab": {
          "base_uri": "https://localhost:8080/"
        },
        "id": "tXsGDcs3oHAk",
        "outputId": "39420371-d573-4e42-ed73-8b5988d91494"
      },
      "outputs": [
        {
          "output_type": "stream",
          "name": "stdout",
          "text": [
            "輸入分數35\n",
            "體溫正常!\n"
          ]
        }
      ],
      "source": [
        "溫度=int(input('輸入溫度'))\n",
        "if (溫度>=37.5):\n",
        "  print('體溫過高!')\n",
        "elif (37<=溫度<=37.4):\n",
        "  print('體溫略高!')\n",
        "elif (34<=溫度<=36.9):\n",
        "  print('體溫正常!')\n",
        "elif (溫度<34):\n",
        "  print('體溫異常，請重新測量!')"
      ]
    },
    {
      "cell_type": "code",
      "source": [
        "成績=int(input('輸入成績'))\n",
        "if (成績>=90):\n",
        "  print('A')\n",
        "elif (80<=成績<=89):\n",
        "  print('B')\n",
        "elif (70<=成績<=79):\n",
        "  print('C')\n",
        "elif (60<=成績<=69):\n",
        "  print('D')\n",
        "elif (成績<60):\n",
        "  print('E')"
      ],
      "metadata": {
        "colab": {
          "base_uri": "https://localhost:8080/"
        },
        "id": "vduy6y_etEo0",
        "outputId": "32b41e93-7bad-4db1-81e2-7cf272e27eec"
      },
      "execution_count": 13,
      "outputs": [
        {
          "output_type": "stream",
          "name": "stdout",
          "text": [
            "輸入分數62\n",
            "D\n"
          ]
        }
      ]
    },
    {
      "cell_type": "code",
      "source": [
        "月份 = int(input('輸入月份：'))\n",
        "x = 月份\n",
        "if (x==3 or x==4 or x==5):\n",
        "    print(str(x) + '月是春天')\n",
        "elif (x==6 or x==7 or x==8):\n",
        "    print(str(x) + '月是夏天')\n",
        "elif (x==9 or x==10 or x==11):\n",
        "    print(str(x) + '月是秋天')\n",
        "elif (x==1 or x==2 or x==12):\n",
        "    print(str(x) + '月是冬天')\n",
        "else:\n",
        "    print('月份不在範圍內')"
      ],
      "metadata": {
        "colab": {
          "base_uri": "https://localhost:8080/"
        },
        "id": "YOVMEX1_unlD",
        "outputId": "80728d70-06db-41b5-8de6-8e05e6caa07d"
      },
      "execution_count": 28,
      "outputs": [
        {
          "output_type": "stream",
          "name": "stdout",
          "text": [
            "輸入月份：1\n",
            "1月是冬天\n"
          ]
        }
      ]
    }
  ]
}