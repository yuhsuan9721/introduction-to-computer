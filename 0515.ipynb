{
  "nbformat": 4,
  "nbformat_minor": 0,
  "metadata": {
    "colab": {
      "provenance": [],
      "authorship_tag": "ABX9TyNbFrCZcIYLg+fRaD6c6ktI",
      "include_colab_link": true
    },
    "kernelspec": {
      "name": "python3",
      "display_name": "Python 3"
    },
    "language_info": {
      "name": "python"
    }
  },
  "cells": [
    {
      "cell_type": "markdown",
      "metadata": {
        "id": "view-in-github",
        "colab_type": "text"
      },
      "source": [
        "<a href=\"https://colab.research.google.com/github/yuhsuan9721/introduction-to-computer/blob/main/0515.ipynb\" target=\"_parent\"><img src=\"https://colab.research.google.com/assets/colab-badge.svg\" alt=\"Open In Colab\"/></a>"
      ]
    },
    {
      "cell_type": "code",
      "execution_count": 1,
      "metadata": {
        "colab": {
          "base_uri": "https://localhost:8080/"
        },
        "id": "dDtXDnkuP8k8",
        "outputId": "5f7b1d2d-41d9-4d4a-99db-11eb806c6172"
      },
      "outputs": [
        {
          "output_type": "stream",
          "name": "stdout",
          "text": [
            "happy\n",
            "happy\n",
            "happy\n",
            "happy\n",
            "happy\n",
            "happy\n",
            "happy\n",
            "happy\n",
            "happy\n"
          ]
        }
      ],
      "source": [
        "for i in range(9):\n",
        "  print('happy')"
      ]
    },
    {
      "cell_type": "code",
      "source": [
        "for i in range(1,10,2):\n",
        "  print(i,end=\",\")"
      ],
      "metadata": {
        "colab": {
          "base_uri": "https://localhost:8080/"
        },
        "id": "6q8I0Sp9Qd-j",
        "outputId": "d880442e-4050-45e0-fd58-c75a499b7fb1"
      },
      "execution_count": 2,
      "outputs": [
        {
          "output_type": "stream",
          "name": "stdout",
          "text": [
            "1,3,5,7,9,"
          ]
        }
      ]
    },
    {
      "cell_type": "code",
      "source": [
        "n=int(input())\n",
        "total=0\n",
        "for i in range(1,n+1):\n",
        "  total+=i\n",
        "print(\"1到{}的總和為{}\".format(n,total))"
      ],
      "metadata": {
        "colab": {
          "base_uri": "https://localhost:8080/"
        },
        "id": "53XWgwrxQ0ms",
        "outputId": "767efb84-4f66-4a4d-bf38-e3d91a2e7aab"
      },
      "execution_count": 6,
      "outputs": [
        {
          "output_type": "stream",
          "name": "stdout",
          "text": [
            "100\n",
            "1到100的總和為5050\n"
          ]
        }
      ]
    },
    {
      "cell_type": "code",
      "source": [
        "n=int(input())\n",
        "total=0\n",
        "for i in range (1,n+1,):\n",
        "  if i%2!=0:\n",
        "    total+=i\n",
        "print(\"1到{}的總和為{}\".format(n,total))"
      ],
      "metadata": {
        "colab": {
          "base_uri": "https://localhost:8080/"
        },
        "id": "92zSfHDzS2ei",
        "outputId": "1fde7210-3393-4cbe-995f-3fc70b2fa982"
      },
      "execution_count": 8,
      "outputs": [
        {
          "output_type": "stream",
          "name": "stdout",
          "text": [
            "100\n",
            "1到100的總和為2500\n"
          ]
        }
      ]
    },
    {
      "cell_type": "code",
      "source": [],
      "metadata": {
        "id": "KOWHHZ49UvbF"
      },
      "execution_count": null,
      "outputs": []
    }
  ]
}